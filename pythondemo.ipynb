{
  "nbformat": 4,
  "nbformat_minor": 0,
  "metadata": {
    "colab": {
      "name": "pythondemo.ipynb",
      "provenance": [],
      "authorship_tag": "ABX9TyNLDLZ7mqOutE33u9SNnBIR",
      "include_colab_link": true
    },
    "kernelspec": {
      "name": "python3",
      "display_name": "Python 3"
    },
    "language_info": {
      "name": "python"
    }
  },
  "cells": [
    {
      "cell_type": "markdown",
      "metadata": {
        "id": "view-in-github",
        "colab_type": "text"
      },
      "source": [
        "<a href=\"https://colab.research.google.com/github/prljylopez/CPEN-21A-CPE-1-2/blob/main/pythondemo.ipynb\" target=\"_parent\"><img src=\"https://colab.research.google.com/assets/colab-badge.svg\" alt=\"Open In Colab\"/></a>"
      ]
    },
    {
      "cell_type": "code",
      "metadata": {
        "id": "kMV1cIZ23qbB"
      },
      "source": [
        ""
      ],
      "execution_count": null,
      "outputs": []
    },
    {
      "cell_type": "markdown",
      "metadata": {
        "id": "hOIrTEdEFOb8"
      },
      "source": [
        "###Python Idention "
      ]
    },
    {
      "cell_type": "code",
      "metadata": {
        "colab": {
          "base_uri": "https://localhost:8080/"
        },
        "id": "-JLfK11yFXZE",
        "outputId": "1ad2245d-dfb1-449a-e560-e07ca63b463d"
      },
      "source": [
        "if 5>4:\n",
        "  print(\"five is greater than four\")\n",
        "\n"
      ],
      "execution_count": 1,
      "outputs": [
        {
          "output_type": "stream",
          "name": "stdout",
          "text": [
            "five is greater than four\n"
          ]
        }
      ]
    },
    {
      "cell_type": "markdown",
      "metadata": {
        "id": "fx86ZkvWGJWh"
      },
      "source": [
        "###Python comment"
      ]
    },
    {
      "cell_type": "code",
      "metadata": {
        "colab": {
          "base_uri": "https://localhost:8080/"
        },
        "id": "-rnfYvirGXcl",
        "outputId": "745dfd18-6a55-4a73-cabb-c55bc60d9d7d"
      },
      "source": [
        "#This is a comment \n",
        "print(\"Hi I am Joy\")"
      ],
      "execution_count": 3,
      "outputs": [
        {
          "output_type": "stream",
          "name": "stdout",
          "text": [
            "Hi I am Joy\n"
          ]
        }
      ]
    },
    {
      "cell_type": "markdown",
      "metadata": {
        "id": "fBjdiREWG3lb"
      },
      "source": [
        "###Variable Naming Convention"
      ]
    },
    {
      "cell_type": "code",
      "metadata": {
        "colab": {
          "base_uri": "https://localhost:8080/"
        },
        "id": "Nuk9k1K5HFvH",
        "outputId": "1a932f59-dc53-4568-f9bb-a3a5599815d4"
      },
      "source": [
        "myvar=\"Joy\"\n",
        "print(myvar)"
      ],
      "execution_count": 6,
      "outputs": [
        {
          "output_type": "stream",
          "name": "stdout",
          "text": [
            "Joy\n"
          ]
        }
      ]
    }
  ]
}