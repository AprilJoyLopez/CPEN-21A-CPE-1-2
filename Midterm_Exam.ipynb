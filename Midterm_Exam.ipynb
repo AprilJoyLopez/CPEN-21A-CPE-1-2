{
  "nbformat": 4,
  "nbformat_minor": 0,
  "metadata": {
    "colab": {
      "name": "Midterm Exam.ipynb",
      "provenance": [],
      "collapsed_sections": [],
      "authorship_tag": "ABX9TyODlfMv9tv6j8W7NwZP2vm6",
      "include_colab_link": true
    },
    "kernelspec": {
      "name": "python3",
      "display_name": "Python 3"
    },
    "language_info": {
      "name": "python"
    }
  },
  "cells": [
    {
      "cell_type": "markdown",
      "metadata": {
        "id": "view-in-github",
        "colab_type": "text"
      },
      "source": [
        "<a href=\"https://colab.research.google.com/github/prljylopez/CPEN-21A-CPE-1-2/blob/main/Midterm_Exam.ipynb\" target=\"_parent\"><img src=\"https://colab.research.google.com/assets/colab-badge.svg\" alt=\"Open In Colab\"/></a>"
      ]
    },
    {
      "cell_type": "markdown",
      "metadata": {
        "id": "p5deD9PheYwz"
      },
      "source": [
        "##PROBLEM STATEMENT 1"
      ]
    },
    {
      "cell_type": "code",
      "metadata": {
        "colab": {
          "base_uri": "https://localhost:8080/"
        },
        "id": "_YUDl7Q0edfe",
        "outputId": "ed0c29df-2521-4352-e3e2-39a1744b9bf8"
      },
      "source": [
        "Fullname = \"April Joy S. Lopez\"\n",
        "StudentNumber = \"202105215\"\n",
        "Age = \"18 years old\"\n",
        "Birthday = \"April 22, 2003\"\n",
        "Address = \"6035 Real Street Barangay Tabora General Emilio Aguinaldo, Cavite\"\n",
        "Course = \"Bachelor of Science in Computer Engineering\"\n",
        "LastsemGWA = \"96\"\n",
        "\n",
        "print(Fullname)\n",
        "print(StudentNumber)\n",
        "print(Age)\n",
        "print(Birthday)\n",
        "print(Address)\n",
        "print(Course)\n",
        "print(LastsemGWA)"
      ],
      "execution_count": 8,
      "outputs": [
        {
          "output_type": "stream",
          "name": "stdout",
          "text": [
            "April Joy S. Lopez\n",
            "202105215\n",
            "18 years old\n",
            "April 22, 2003\n",
            "6035 Real Street Barangay Tabora General Emilio Aguinaldo, Cavite\n",
            "Bachelor of Science in Computer Engineering\n",
            "96\n"
          ]
        }
      ]
    },
    {
      "cell_type": "markdown",
      "metadata": {
        "id": "CClwNux3kQN1"
      },
      "source": [
        "##PROBLEM STATEMENT 2"
      ]
    },
    {
      "cell_type": "code",
      "metadata": {
        "colab": {
          "base_uri": "https://localhost:8080/"
        },
        "id": "eQP5a2vEkUVf",
        "outputId": "70fa835e-fa0c-461d-c4be-d96fc4741c5c"
      },
      "source": [
        "n = 4\n",
        "answ = \"Y\"\n",
        "\n",
        "print(2<n and n<6)   #a\n",
        "print(2<n or n==6)   #b\n",
        "print(not(2<n or n==6))  #c\n",
        "print(not(n<6))    #d\n",
        "print((answ==\"Y\") or (answ==\"y\")) #e\n",
        "print((answ==\"Y\") and (answ==\"y\"))  #f\n",
        "print(not(answ==\"y\"))  #g\n",
        "print((2<n) and (n==5+1) or (answ==\"No\"))  #h\n",
        "print((n==2) and (n==7) or (answ==\"Y\"))  #i\n",
        "print((n==2) and (n==7 or answ==\"Y\"))   #j"
      ],
      "execution_count": 10,
      "outputs": [
        {
          "output_type": "stream",
          "name": "stdout",
          "text": [
            "True\n",
            "True\n",
            "False\n",
            "False\n",
            "True\n",
            "False\n",
            "True\n",
            "False\n",
            "True\n",
            "False\n"
          ]
        }
      ]
    },
    {
      "cell_type": "markdown",
      "metadata": {
        "id": "T_gAfc_GotlN"
      },
      "source": [
        "##PROBLEM STATEMENT 3"
      ]
    },
    {
      "cell_type": "code",
      "metadata": {
        "colab": {
          "base_uri": "https://localhost:8080/"
        },
        "id": "Ti88MUnVowrt",
        "outputId": "0e97308b-414e-4d66-bef5-70662e69c88f"
      },
      "source": [
        "x = 2\n",
        "y = -3\n",
        "w = 7\n",
        "z = -10\n",
        "\n",
        "print(x/y)  #a\n",
        "print(w/y/x)  #b\n",
        "print(z/y%x)   #c\n",
        "print(x%-y*w)   #d\n",
        "print(x%y)     #e\n",
        "print(z%w-y/x*5+5)  #f\n",
        "print(9-x%(2+y)) #g\n",
        "print(z//w)    #h\n",
        "print((2+y)**2)  #i\n",
        "print(w/x*2)    #j"
      ],
      "execution_count": 15,
      "outputs": [
        {
          "output_type": "stream",
          "name": "stdout",
          "text": [
            "-0.6666666666666666\n",
            "-1.1666666666666667\n",
            "1.3333333333333335\n",
            "14\n",
            "-1\n",
            "16.5\n",
            "9\n",
            "-2\n",
            "1\n",
            "7.0\n"
          ]
        }
      ]
    }
  ]
}