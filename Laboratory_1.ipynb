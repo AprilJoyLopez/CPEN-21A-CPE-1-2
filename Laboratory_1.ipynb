{
  "nbformat": 4,
  "nbformat_minor": 0,
  "metadata": {
    "colab": {
      "name": "Laboratory 1",
      "provenance": [],
      "authorship_tag": "ABX9TyNWIYWfjVG6y+kwSlnC0N38",
      "include_colab_link": true
    },
    "kernelspec": {
      "name": "python3",
      "display_name": "Python 3"
    },
    "language_info": {
      "name": "python"
    }
  },
  "cells": [
    {
      "cell_type": "markdown",
      "metadata": {
        "id": "view-in-github",
        "colab_type": "text"
      },
      "source": [
        "<a href=\"https://colab.research.google.com/github/prljylopez/CPEN-21A-CPE-1-2/blob/main/Laboratory_1.ipynb\" target=\"_parent\"><img src=\"https://colab.research.google.com/assets/colab-badge.svg\" alt=\"Open In Colab\"/></a>"
      ]
    },
    {
      "cell_type": "code",
      "metadata": {
        "id": "kAefMMOp83iS"
      },
      "source": [
        ""
      ],
      "execution_count": null,
      "outputs": []
    },
    {
      "cell_type": "markdown",
      "metadata": {
        "id": "Vz2VfORS9ELU"
      },
      "source": [
        "##Laboratory 1"
      ]
    },
    {
      "cell_type": "code",
      "metadata": {
        "colab": {
          "base_uri": "https://localhost:8080/"
        },
        "id": "n9f5y9-n9Is4",
        "outputId": "b027d61b-e94e-4e39-da48-2d9eba518ad2"
      },
      "source": [
        "print (\"Welcome to Python Programming\")"
      ],
      "execution_count": 1,
      "outputs": [
        {
          "output_type": "stream",
          "name": "stdout",
          "text": [
            "Welcome to Python Programming\n"
          ]
        }
      ]
    },
    {
      "cell_type": "code",
      "metadata": {
        "colab": {
          "base_uri": "https://localhost:8080/"
        },
        "id": "hstGSInu9aL2",
        "outputId": "c7172381-d0c9-4e99-f519-92b13a9e22db"
      },
      "source": [
        "Name = \"April Joy S. Lopez\"\n",
        "Address = \"Real Street Brgy. Tabora General Emilio Aguinaldo, Cavite\"\n",
        "Age = \"18 years old\"\n",
        "\n",
        "print (\"My name is\" \" \" + Name)\n",
        "print (\"I lived in\" \" \" + Address)\n",
        "print (\"I am\" \" \" + Age)"
      ],
      "execution_count": 4,
      "outputs": [
        {
          "output_type": "stream",
          "name": "stdout",
          "text": [
            "My name is April Joy S. Lopez\n",
            "I lived in Real Street Brgy. Tabora General Emilio Aguinaldo, Cavite\n",
            "I am 18 years old\n"
          ]
        }
      ]
    }
  ]
}