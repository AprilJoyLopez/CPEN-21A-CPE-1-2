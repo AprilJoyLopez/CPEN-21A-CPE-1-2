{
  "nbformat": 4,
  "nbformat_minor": 0,
  "metadata": {
    "colab": {
      "name": "Loop Statement.ipynb",
      "provenance": [],
      "authorship_tag": "ABX9TyOqMjouKHR7ZBz+6F/eGrcl",
      "include_colab_link": true
    },
    "kernelspec": {
      "name": "python3",
      "display_name": "Python 3"
    },
    "language_info": {
      "name": "python"
    }
  },
  "cells": [
    {
      "cell_type": "markdown",
      "metadata": {
        "id": "view-in-github",
        "colab_type": "text"
      },
      "source": [
        "<a href=\"https://colab.research.google.com/github/prljylopez/CPEN-21A-CPE-1-2/blob/main/Loop_Statement.ipynb\" target=\"_parent\"><img src=\"https://colab.research.google.com/assets/colab-badge.svg\" alt=\"Open In Colab\"/></a>"
      ]
    },
    {
      "cell_type": "markdown",
      "source": [
        "Loop Statement "
      ],
      "metadata": {
        "id": "Ohv947jmMQ_s"
      }
    },
    {
      "cell_type": "code",
      "source": [
        "week = [\"Sunday\", \"Monday\", \"Tuesday\", \"Wednesday\", \"Thursday\", \"Friday\", \"Saturday\" ]\n",
        "for x in week:\n",
        "  print(x)"
      ],
      "metadata": {
        "colab": {
          "base_uri": "https://localhost:8080/"
        },
        "id": "8DE22JtCM0-Q",
        "outputId": "db6f16a1-0e90-4a7a-b439-ad69caed7f09"
      },
      "execution_count": null,
      "outputs": [
        {
          "output_type": "stream",
          "name": "stdout",
          "text": [
            "Sunday\n",
            "Monday\n",
            "Tuesday\n",
            "Wednesday\n",
            "Thursday\n",
            "Friday\n",
            "Saturday\n"
          ]
        }
      ]
    },
    {
      "cell_type": "markdown",
      "source": [
        "Break Statement"
      ],
      "metadata": {
        "id": "Paxjdb6tNaPR"
      }
    },
    {
      "cell_type": "code",
      "source": [
        "for x in week:\n",
        "  print(x)\n",
        "  if x==\"Thursday\":\n",
        "   break"
      ],
      "metadata": {
        "colab": {
          "base_uri": "https://localhost:8080/"
        },
        "id": "Tghf23d3bnaD",
        "outputId": "74ff4114-9aa2-4fca-e9a9-e6715d019ad4"
      },
      "execution_count": 46,
      "outputs": [
        {
          "output_type": "stream",
          "name": "stdout",
          "text": [
            "Sunday\n",
            "Monday\n",
            "Tuesday\n",
            "Wednesday\n",
            "Thursday\n"
          ]
        }
      ]
    },
    {
      "cell_type": "code",
      "source": [
        "for x in week:\n",
        "  if x==\"Thursday\":\n",
        "    break\n",
        "  print(x)"
      ],
      "metadata": {
        "colab": {
          "base_uri": "https://localhost:8080/"
        },
        "id": "C5kL30dbOmbB",
        "outputId": "b7214fb0-1d58-42bf-9db3-8c0c975ee633"
      },
      "execution_count": 14,
      "outputs": [
        {
          "output_type": "stream",
          "name": "stdout",
          "text": [
            "Sunday\n",
            "Monday\n",
            "Tuesday\n",
            "Wednesday\n"
          ]
        }
      ]
    },
    {
      "cell_type": "markdown",
      "source": [
        "Looping through string "
      ],
      "metadata": {
        "id": "xw5Pg4tWOM1b"
      }
    },
    {
      "cell_type": "code",
      "source": [
        "for x in \"Programming with Python\":\n",
        "  print(x)"
      ],
      "metadata": {
        "colab": {
          "base_uri": "https://localhost:8080/"
        },
        "id": "rgpfwvXvO3pC",
        "outputId": "4022288d-a6c1-40cb-ff91-0cac5fc78df9"
      },
      "execution_count": 47,
      "outputs": [
        {
          "output_type": "stream",
          "name": "stdout",
          "text": [
            "P\n",
            "r\n",
            "o\n",
            "g\n",
            "r\n",
            "a\n",
            "m\n",
            "m\n",
            "i\n",
            "n\n",
            "g\n",
            " \n",
            "w\n",
            "i\n",
            "t\n",
            "h\n",
            " \n",
            "P\n",
            "y\n",
            "t\n",
            "h\n",
            "o\n",
            "n\n"
          ]
        }
      ]
    },
    {
      "cell_type": "markdown",
      "source": [
        "range() function"
      ],
      "metadata": {
        "id": "dKYDL-SRPAdZ"
      }
    },
    {
      "cell_type": "code",
      "source": [
        "for x in range(10):\n",
        "  print(x)"
      ],
      "metadata": {
        "colab": {
          "base_uri": "https://localhost:8080/"
        },
        "id": "MwRH6ydVPEi0",
        "outputId": "b3108c00-95ac-4b58-8980-11cc8e43b55e"
      },
      "execution_count": 48,
      "outputs": [
        {
          "output_type": "stream",
          "name": "stdout",
          "text": [
            "0\n",
            "1\n",
            "2\n",
            "3\n",
            "4\n",
            "5\n",
            "6\n",
            "7\n",
            "8\n",
            "9\n"
          ]
        }
      ]
    },
    {
      "cell_type": "markdown",
      "source": [
        "Nested Loops"
      ],
      "metadata": {
        "id": "eoyW7kBYPm0M"
      }
    },
    {
      "cell_type": "code",
      "source": [
        "adjective = [\"red\", \"big\", \"tasty\"]\n",
        "fruits = [\"apple\", \"banana\", \"cherry\"]\n",
        "\n",
        "for x in adjective:\n",
        "  for y in fruits:\n",
        "    print(x,y)"
      ],
      "metadata": {
        "colab": {
          "base_uri": "https://localhost:8080/"
        },
        "id": "EgP53dLKPsW5",
        "outputId": "53ef7c72-8523-4f62-94d4-70965139bc2e"
      },
      "execution_count": 18,
      "outputs": [
        {
          "output_type": "stream",
          "name": "stdout",
          "text": [
            "red apple\n",
            "red banana\n",
            "red cherry\n",
            "big apple\n",
            "big banana\n",
            "big cherry\n",
            "tasty apple\n",
            "tasty banana\n",
            "tasty cherry\n"
          ]
        }
      ]
    },
    {
      "cell_type": "markdown",
      "source": [
        "For loop statement"
      ],
      "metadata": {
        "id": "uJCsE6RzZfF7"
      }
    },
    {
      "cell_type": "code",
      "source": [
        "values=[\"Value 0\", \"Value 1\", \"Value 2\", \"Value 3\", \"Value 4\", \"Value 5\"]\n",
        "\n",
        "for x in values:\n",
        "  print(x)"
      ],
      "metadata": {
        "colab": {
          "base_uri": "https://localhost:8080/"
        },
        "id": "IZhTknxGZjpm",
        "outputId": "3ba68118-90f8-47fe-fe94-60b9853180f9"
      },
      "execution_count": 45,
      "outputs": [
        {
          "output_type": "stream",
          "name": "stdout",
          "text": [
            "Value 0\n",
            "Value 1\n",
            "Value 2\n",
            "Value 3\n",
            "Value 4\n",
            "Value 5\n"
          ]
        }
      ]
    },
    {
      "cell_type": "markdown",
      "source": [
        "While loop statement"
      ],
      "metadata": {
        "id": "5-5puiOsQWN0"
      }
    },
    {
      "cell_type": "code",
      "source": [
        "i = 10\n",
        "while i>6:\n",
        "  print(i)\n",
        "  i-=1 #assignment operator for substraction"
      ],
      "metadata": {
        "colab": {
          "base_uri": "https://localhost:8080/"
        },
        "id": "2FrP0Fk_QZ5J",
        "outputId": "3b54fc63-7f20-4388-8845-db0c14a3809b"
      },
      "execution_count": 30,
      "outputs": [
        {
          "output_type": "stream",
          "name": "stdout",
          "text": [
            "10\n",
            "9\n",
            "8\n",
            "7\n"
          ]
        }
      ]
    },
    {
      "cell_type": "markdown",
      "source": [
        "Break statement "
      ],
      "metadata": {
        "id": "GYsCge5eQ1RY"
      }
    },
    {
      "cell_type": "code",
      "source": [
        "i = 1\n",
        "while i<6:\n",
        "  print(i)\n",
        "  if i==3:\n",
        "    break\n",
        "  i+=1"
      ],
      "metadata": {
        "colab": {
          "base_uri": "https://localhost:8080/"
        },
        "id": "uc0_ThDUQ35P",
        "outputId": "73589fed-bc2e-46ad-b503-dfe5a70600a5"
      },
      "execution_count": 20,
      "outputs": [
        {
          "output_type": "stream",
          "name": "stdout",
          "text": [
            "1\n",
            "2\n",
            "3\n"
          ]
        }
      ]
    },
    {
      "cell_type": "code",
      "source": [
        "i = 10\n",
        "while i>6:\n",
        "  i=i-1\n",
        "  if i==8:\n",
        "    continue\n",
        "  print(i)\n",
        "  i-=1"
      ],
      "metadata": {
        "colab": {
          "base_uri": "https://localhost:8080/"
        },
        "id": "o8zjbN_8RDuw",
        "outputId": "1f3fdc8f-b3ad-4028-9643-796d1ea9d440"
      },
      "execution_count": 32,
      "outputs": [
        {
          "output_type": "stream",
          "name": "stdout",
          "text": [
            "9\n",
            "7\n"
          ]
        }
      ]
    },
    {
      "cell_type": "markdown",
      "source": [
        "continue statement"
      ],
      "metadata": {
        "id": "Pk6ArOpcTvlo"
      }
    },
    {
      "cell_type": "code",
      "source": [
        "i=10\n",
        "while i>6:\n",
        "  i=i-1\n",
        "  if i==8:\n",
        "    continue\n",
        "  print(i)"
      ],
      "metadata": {
        "colab": {
          "base_uri": "https://localhost:8080/"
        },
        "id": "SbCsTJxuTzqH",
        "outputId": "21ad1c65-4600-4b27-ca17-9de6bb9aec50"
      },
      "execution_count": 28,
      "outputs": [
        {
          "output_type": "stream",
          "name": "stdout",
          "text": [
            "9\n",
            "7\n",
            "6\n"
          ]
        }
      ]
    },
    {
      "cell_type": "code",
      "source": [
        "i = 10 \n",
        "while i>0:\n",
        "  i=i-1\n",
        "  if i==8:\n",
        "    continue\n",
        "  print(i)"
      ],
      "metadata": {
        "colab": {
          "base_uri": "https://localhost:8080/"
        },
        "id": "un6HRu7SVJnK",
        "outputId": "572785fe-5fc9-4ad8-dd83-cc8fc48cce2e"
      },
      "execution_count": 33,
      "outputs": [
        {
          "output_type": "stream",
          "name": "stdout",
          "text": [
            "9\n",
            "7\n",
            "6\n",
            "5\n",
            "4\n",
            "3\n",
            "2\n",
            "1\n",
            "0\n"
          ]
        }
      ]
    },
    {
      "cell_type": "markdown",
      "source": [
        "the else statement"
      ],
      "metadata": {
        "id": "58aNwMynRaXM"
      }
    },
    {
      "cell_type": "code",
      "source": [
        "i=10\n",
        "while i>6:\n",
        "  i=i-1\n",
        "  print(i)\n",
        "else:\n",
        "  print(\"i is no longer greater than 6\")"
      ],
      "metadata": {
        "colab": {
          "base_uri": "https://localhost:8080/"
        },
        "id": "O79AtDMzRfEe",
        "outputId": "2532940c-c7f8-4ea6-c874-dbdce869e29f"
      },
      "execution_count": 23,
      "outputs": [
        {
          "output_type": "stream",
          "name": "stdout",
          "text": [
            "9\n",
            "8\n",
            "7\n",
            "6\n",
            "i is no longer greater than 6\n"
          ]
        }
      ]
    },
    {
      "cell_type": "markdown",
      "source": [
        "Appliation 1"
      ],
      "metadata": {
        "id": "AiclqYEdTeDw"
      }
    },
    {
      "cell_type": "code",
      "source": [
        "#While Loops\n",
        "i = 0\n",
        "while i<11:\n",
        "  print(\"Value\", i)\n",
        "  i+=1 #assignment operator for addition"
      ],
      "metadata": {
        "colab": {
          "base_uri": "https://localhost:8080/"
        },
        "id": "wcEl5or0ZGhX",
        "outputId": "4d7713f9-4381-4f13-b5e2-d4be9d2008da"
      },
      "execution_count": 50,
      "outputs": [
        {
          "output_type": "stream",
          "name": "stdout",
          "text": [
            "Value 0\n",
            "Value 1\n",
            "Value 2\n",
            "Value 3\n",
            "Value 4\n",
            "Value 5\n",
            "Value 6\n",
            "Value 7\n",
            "Value 8\n",
            "Value 9\n",
            "Value 10\n"
          ]
        }
      ]
    },
    {
      "cell_type": "code",
      "source": [
        "#For Loops\n",
        "values=[\"Value 0\", \"Value 1\", \"Value 2\", \"Value 3\", \"Value 4\", \"Value 5\", \"Value 6\", \"Value 7\", \"Value 8\", \"Value 9\", \"Value 10\"]\n",
        "for x in values:\n",
        "  print(x)"
      ],
      "metadata": {
        "colab": {
          "base_uri": "https://localhost:8080/"
        },
        "id": "bwqlSUNlc1M8",
        "outputId": "41144461-c31f-47ef-989b-f1c04ad9ad9d"
      },
      "execution_count": 51,
      "outputs": [
        {
          "output_type": "stream",
          "name": "stdout",
          "text": [
            "Value 0\n",
            "Value 1\n",
            "Value 2\n",
            "Value 3\n",
            "Value 4\n",
            "Value 5\n",
            "Value 6\n",
            "Value 7\n",
            "Value 8\n",
            "Value 9\n",
            "Value 10\n"
          ]
        }
      ]
    },
    {
      "cell_type": "markdown",
      "source": [
        "Appliation 2"
      ],
      "metadata": {
        "id": "SDSBKYQ7R8pn"
      }
    },
    {
      "cell_type": "code",
      "source": [
        "i=20\n",
        "while i>3:\n",
        "  i=i-1\n",
        "  print(i)\n",
        "  if i==4:\n",
        "    break"
      ],
      "metadata": {
        "colab": {
          "base_uri": "https://localhost:8080/"
        },
        "id": "EVueOVGeSW49",
        "outputId": "4b48dbff-b3fe-46ab-82dd-90d8e5b3cde6"
      },
      "execution_count": 36,
      "outputs": [
        {
          "output_type": "stream",
          "name": "stdout",
          "text": [
            "19\n",
            "18\n",
            "17\n",
            "16\n",
            "15\n",
            "14\n",
            "13\n",
            "12\n",
            "11\n",
            "10\n",
            "9\n",
            "8\n",
            "7\n",
            "6\n",
            "5\n",
            "4\n"
          ]
        }
      ]
    }
  ]
}