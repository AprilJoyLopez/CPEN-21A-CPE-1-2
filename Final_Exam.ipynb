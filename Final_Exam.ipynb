{
  "nbformat": 4,
  "nbformat_minor": 0,
  "metadata": {
    "colab": {
      "name": "Final Exam.ipynb",
      "provenance": [],
      "authorship_tag": "ABX9TyMtaJoDfakKZSVljqODwuvl",
      "include_colab_link": true
    },
    "kernelspec": {
      "name": "python3",
      "display_name": "Python 3"
    },
    "language_info": {
      "name": "python"
    }
  },
  "cells": [
    {
      "cell_type": "markdown",
      "metadata": {
        "id": "view-in-github",
        "colab_type": "text"
      },
      "source": [
        "<a href=\"https://colab.research.google.com/github/prljylopez/CPEN-21A-CPE-1-2/blob/main/Final_Exam.ipynb\" target=\"_parent\"><img src=\"https://colab.research.google.com/assets/colab-badge.svg\" alt=\"Open In Colab\"/></a>"
      ]
    },
    {
      "cell_type": "markdown",
      "source": [
        "PROBLEM STATEMENT 1 "
      ],
      "metadata": {
        "id": "DHg0v39gxQZl"
      }
    },
    {
      "cell_type": "code",
      "source": [
        "num = [-5, -4, -3, -2, -1, 0, 1, 2, 3, 4]\n",
        "sum= 0\n",
        "for x in (num):\n",
        "  sum = sum + x\n",
        "print(\"The sum of 10 numbers less than 5 is\", sum)"
      ],
      "metadata": {
        "colab": {
          "base_uri": "https://localhost:8080/"
        },
        "id": "-aqqbrhyxWwO",
        "outputId": "725e1efe-a941-4a33-8c3b-6146f3ebf0c0"
      },
      "execution_count": 2,
      "outputs": [
        {
          "output_type": "stream",
          "name": "stdout",
          "text": [
            "The sum of 10 numbers less than 5 is -5\n"
          ]
        }
      ]
    },
    {
      "cell_type": "markdown",
      "source": [
        "PROBLEM STATEMENT 2"
      ],
      "metadata": {
        "id": "QfKDiA1h9ide"
      }
    },
    {
      "cell_type": "code",
      "source": [
        "num = []\n",
        "while len(num) is not 5:\n",
        "  user = int(input(\"Input number: \"))\n",
        "  num.append(user)\n",
        "print(num)\n",
        "summ = num[0] + num[-1]\n",
        "print(summ)"
      ],
      "metadata": {
        "colab": {
          "base_uri": "https://localhost:8080/"
        },
        "id": "CiE2-iN49txX",
        "outputId": "b8c76409-a29a-42b6-aee3-8e1556143a2d"
      },
      "execution_count": 4,
      "outputs": [
        {
          "output_type": "stream",
          "name": "stdout",
          "text": [
            "Input number: 3\n",
            "Input number: 5\n",
            "Input number: 6\n",
            "Input number: 7\n",
            "Input number: 2\n",
            "[3, 5, 6, 7, 2]\n",
            "5\n"
          ]
        }
      ]
    },
    {
      "cell_type": "markdown",
      "source": [
        "PROBLEM STATEMENT 3"
      ],
      "metadata": {
        "id": "OmirhxgQAkta"
      }
    },
    {
      "cell_type": "code",
      "source": [
        "grade = x = (int(input(\"Insert your Grade: \")))\n",
        "if x >= 90:\n",
        "  print(\"A\")\n",
        "elif x >= 80:\n",
        "  print(\"B\")\n",
        "elif x >= 70:\n",
        "  print(\"C\")\n",
        "elif x >= 60:\n",
        "  print(\"D\")\n",
        "else:\n",
        "  print(\"F\")"
      ],
      "metadata": {
        "colab": {
          "base_uri": "https://localhost:8080/"
        },
        "id": "GNwFvGu6Anhf",
        "outputId": "578af58a-ba07-4cc2-8ec4-08b3b14a3cf3"
      },
      "execution_count": 8,
      "outputs": [
        {
          "output_type": "stream",
          "name": "stdout",
          "text": [
            "Insert your Grade: 53\n",
            "F\n"
          ]
        }
      ]
    }
  ]
}